{
 "cells": [
  {
   "cell_type": "markdown",
   "id": "94040b4b",
   "metadata": {},
   "source": [
    "# University Admission with Logistic Regression Implementation"
   ]
  },
  {
   "cell_type": "markdown",
   "id": "74adefe3",
   "metadata": {},
   "source": [
    "Suppose that you are the administrator of a university department and you want to determine each applicant's chance of admission based on their results on two exams. You have historical data from previous applicants that you can use as a training set for logistic regression. For each training example, you have the applicant's scores on two exams and the admissions decision.\n",
    "Your task is to build a classification model that estimates an applicant's probability of admission based the scores from those two exams."
   ]
  },
  {
   "cell_type": "code",
   "execution_count": 38,
   "id": "0327c2d4",
   "metadata": {},
   "outputs": [],
   "source": [
    "import numpy as np\n",
    "import pandas as pd\n",
    "import matplotlib.pyplot as plt\n",
    "import warnings; warnings.simplefilter('ignore')\n",
    "from scipy.optimize import minimize"
   ]
  },
  {
   "cell_type": "markdown",
   "id": "f0d137b8",
   "metadata": {},
   "source": [
    "## Data visualisation"
   ]
  },
  {
   "cell_type": "code",
   "execution_count": 39,
   "id": "6452c0e9",
   "metadata": {},
   "outputs": [
    {
     "data": {
      "image/png": "[encoded data removed]",
      "text/plain": [
       "<Figure size 432x288 with 1 Axes>"
      ]
     },
     "metadata": {
      "needs_background": "light"
     },
     "output_type": "display_data"
    }
   ],
   "source": [
    "with open('exam_scores.txt','r') as f:\n",
    "    data = f.readlines()\n",
    "data = [list(map(float,i.split(','))) for i in data]\n",
    "data = np.array(data)\n",
    "X = data[:,:-1]; y = data[:,-1]\n",
    "m,n = X.shape[0],X.shape[1]\n",
    "fig,ax = plt.subplots()\n",
    "s0 = [i for i in range(m) if y[i]==0]\n",
    "s1 = [i for i in range(m) if y[i]==1]\n",
    "ax.plot(X[:,0][s0], X[:,1][s0],'ro',markersize=5, markerfacecolor='red', label='Not admitted')\n",
    "ax.plot(X[:,0][s1], X[:,1][s1],'bo',markersize=5, markerfacecolor='blue', label='Admitted')\n",
    "y=y.reshape(m,1)\n",
    "plt.xlabel('Score of exam 1')\n",
    "plt.ylabel('Score of exam 2')\n",
    "legend=ax.legend(loc='upper right', shadow=True, fontsize='small')"
   ]
  },
  {
   "cell_type": "markdown",
   "id": "c9f515c7",
   "metadata": {},
   "source": [
    "## Model construction and Cost minimization"
   ]
  },
  {
   "cell_type": "code",
   "execution_count": 40,
   "id": "efbdb093",
   "metadata": {},
   "outputs": [],
   "source": [
    "tmp = X\n",
    "X = np.append(np.ones((m,1)),tmp,axis=1)\n",
    "initial_theta = np.zeros((n+1,1))"
   ]
  },
  {
   "cell_type": "code",
   "execution_count": 41,
   "id": "d5219797",
   "metadata": {},
   "outputs": [
    {
     "name": "stdout",
     "output_type": "stream",
     "text": [
      "Optimization terminated successfully.\n",
      "         Current function value: 0.203498\n",
      "         Iterations: 157\n",
      "         Function evaluations: 287\n"
     ]
    }
   ],
   "source": [
    "def sigmoid(z):\n",
    "    g = np.zeros(z.shape)\n",
    "    g = 1.0/(1+np.exp(-z))\n",
    "    return g\n",
    "\n",
    "def costFunction(theta, X, y):\n",
    "    m = X.shape[0]\n",
    "    J = 0.0\n",
    "    h = (sigmoid(X.dot(theta)))\n",
    "    J = 1.0/m*(-np.transpose(np.log(h)).dot(y) - np.transpose(np.log(1-h)).dot(1-y))\n",
    "    return J\n",
    "\n",
    "def gradient(theta,X, y):\n",
    "    h = (sigmoid(X.dot(theta)))\n",
    "    return 1./m*X.T.dot(h-y)\n",
    "\n",
    "# using the module minimize from scipy.optimize and 'Nelder-Mead' method to optimize parameters.\n",
    "xopt = minimize(costFunction,x0=initial_theta, args=(X,y),method='Nelder-Mead',options={'disp':True})"
   ]
  },
  {
   "cell_type": "code",
   "execution_count": 53,
   "id": "c2d4bf39",
   "metadata": {},
   "outputs": [
    {
     "data": {
      "image/png": "[encoded data removed]",
      "text/plain": [
       "<Figure size 432x288 with 1 Axes>"
      ]
     },
     "execution_count": 53,
     "metadata": {},
     "output_type": "execute_result"
    }
   ],
   "source": [
    "theta = xopt.x\n",
    "ax.plot(X[:,1],-(theta[0]+theta[1]*X[:,1])/theta[2],'-')\n",
    "ax.set_xlim(20.0,100.0)\n",
    "ax.set_ylim(20.0,100.0)\n",
    "fig"
   ]
  },
  {
   "cell_type": "markdown",
   "id": "6363c4e9",
   "metadata": {},
   "source": [
    "## Prediction and Accuracies"
   ]
  },
  {
   "cell_type": "code",
   "execution_count": 59,
   "id": "6daa0f94",
   "metadata": {},
   "outputs": [
    {
     "name": "stdout",
     "output_type": "stream",
     "text": [
      "For a student with scores 45 and 85, we predict an admission probability of:\n",
      " 0.776292\n"
     ]
    }
   ],
   "source": [
    "prob = sigmoid(np.array([1,45,85]).dot(theta.T))\n",
    "print('For a student with scores 45 and 85, we predict an admission probability of:\\n %f' % prob)"
   ]
  },
  {
   "cell_type": "code",
   "execution_count": 65,
   "id": "bb7e5a2a",
   "metadata": {},
   "outputs": [
    {
     "name": "stdout",
     "output_type": "stream",
     "text": [
      "Training Accuracy: 89.00\n"
     ]
    }
   ],
   "source": [
    "def predict(theta, X):\n",
    "    m = X.shape[0]\n",
    "    p = np.zeros((m,1))\n",
    "    h = sigmoid(X.dot(theta))\n",
    "    p =[0 if i<0.5 else 1 for i in h]\n",
    "    return p\n",
    "\n",
    "p = predict(theta, X)\n",
    "accu = sum([1 for i in range(m) if abs(p[i]-y[i])<0.0001])/m*100\n",
    "print('Training Accuracy: %.2f' % accu)"
   ]
  }
 ],
 "metadata": {
  "kernelspec": {
   "display_name": "Python 3 (ipykernel)",
   "language": "python",
   "name": "python3"
  },
  "language_info": {
   "codemirror_mode": {
    "name": "ipython",
    "version": 3
   },
   "file_extension": ".py",
   "mimetype": "text/x-python",
   "name": "python",
   "nbconvert_exporter": "python",
   "pygments_lexer": "ipython3",
   "version": "3.9.7"
  }
 },
 "nbformat": 4,
 "nbformat_minor": 5
}
